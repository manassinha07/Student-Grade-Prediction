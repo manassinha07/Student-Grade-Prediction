{
 "cells": [
  {
   "cell_type": "code",
   "execution_count": 2,
   "metadata": {},
   "outputs": [],
   "source": [
    "import pandas as pd\n",
    "import numpy as np\n",
    "import matplotlib.pyplot as plt"
   ]
  },
  {
   "cell_type": "code",
   "execution_count": 5,
   "metadata": {},
   "outputs": [
    {
     "data": {
      "text/plain": [
       "'C:\\\\Users\\\\91999\\\\Downloads'"
      ]
     },
     "execution_count": 5,
     "metadata": {},
     "output_type": "execute_result"
    }
   ],
   "source": [
    "pwd"
   ]
  },
  {
   "cell_type": "code",
   "execution_count": 6,
   "metadata": {},
   "outputs": [
    {
     "name": "stdout",
     "output_type": "stream",
     "text": [
      "C:\\Users\\91999\\Desktop\\ML student\\student\n"
     ]
    }
   ],
   "source": [
    "cd C:\\Users\\91999\\Desktop\\ML student\\student"
   ]
  },
  {
   "cell_type": "code",
   "execution_count": 24,
   "metadata": {
    "scrolled": true
   },
   "outputs": [
    {
     "name": "stdout",
     "output_type": "stream",
     "text": [
      "(395, 3)\n"
     ]
    }
   ],
   "source": [
    "data=pd.read_csv('student-mat.csv', delimiter=';')\n",
    "#data1=pd.DataFrame(data)\n",
    "X=data.loc[:,['G1','G2']]\n",
    "y=data.loc[:,['G3']]\n",
    "intercept=np.ones([X.shape[0],1])\n",
    "X=np.concatenate((intercept,X),axis=1)\n",
    "print(X.shape)\n"
   ]
  },
  {
   "cell_type": "code",
   "execution_count": 25,
   "metadata": {},
   "outputs": [
    {
     "name": "stdout",
     "output_type": "stream",
     "text": [
      "(3, 1)\n",
      "(395, 3)\n"
     ]
    }
   ],
   "source": [
    "theta=np.zeros([X.shape[1],1])\n",
    "print(theta.shape)\n",
    "print(X.shape)"
   ]
  },
  {
   "cell_type": "code",
   "execution_count": 26,
   "metadata": {},
   "outputs": [
    {
     "data": {
      "text/plain": [
       "(3, 1)"
      ]
     },
     "execution_count": 26,
     "metadata": {},
     "output_type": "execute_result"
    }
   ],
   "source": [
    "np.dot(X.T,(np.dot(X,theta)-y)).shape"
   ]
  },
  {
   "cell_type": "code",
   "execution_count": 27,
   "metadata": {},
   "outputs": [],
   "source": [
    "m=y.shape[0]\n",
    "alpha=0.001\n",
    "iterations=1500\n",
    "def costfunc(X,y,theta):\n",
    "    h=np.dot(X,theta)\n",
    "    h_theta=h-y\n",
    "    J=np.sum(h_theta**2)/(2*m)\n",
    "    return J"
   ]
  },
  {
   "cell_type": "code",
   "execution_count": 28,
   "metadata": {},
   "outputs": [],
   "source": [
    "cost=np.zeros(iterations)\n",
    "def gd(X,y,theta,alpha,iterations):\n",
    "    for i in range(0,iterations):\n",
    "        theta = theta - (alpha/m) * np.dot(X.T,(np.dot(X,theta)-y))\n",
    "        cost[i] =costfunc(X,y,theta)\n",
    "    return theta,cost"
   ]
  },
  {
   "cell_type": "code",
   "execution_count": 35,
   "metadata": {},
   "outputs": [
    {
     "data": {
      "text/plain": [
       "(1500,)"
      ]
     },
     "execution_count": 35,
     "metadata": {},
     "output_type": "execute_result"
    }
   ],
   "source": [
    "#cost=np.zeros(iterations)\n",
    "cost.shape\n"
   ]
  },
  {
   "cell_type": "code",
   "execution_count": 30,
   "metadata": {},
   "outputs": [
    {
     "name": "stdout",
     "output_type": "stream",
     "text": [
      "[[-0.21226143]\n",
      " [ 0.04674491]\n",
      " [ 0.95736333]]\n",
      "G3    1.973224\n",
      "dtype: float64\n"
     ]
    }
   ],
   "source": [
    "g,cost=gd(X,y,theta,alpha,iterations)\n",
    "print(g)\n",
    "final=costfunc(X,y,g)\n",
    "print(final)"
   ]
  },
  {
   "cell_type": "code",
   "execution_count": 31,
   "metadata": {},
   "outputs": [
    {
     "data": {
      "text/plain": [
       "Text(0.5, 1.0, 'Error vs. Training Epoch')"
      ]
     },
     "execution_count": 31,
     "metadata": {},
     "output_type": "execute_result"
    },
    {
     "data": {
      "image/png": "[encoded data removed]",
      "text/plain": [
       "<Figure size 432x288 with 1 Axes>"
      ]
     },
     "metadata": {
      "needs_background": "light"
     },
     "output_type": "display_data"
    }
   ],
   "source": [
    "fig, ax = plt.subplots()  \n",
    "ax.plot(np.arange(iterations), cost, 'r')  \n",
    "ax.set_xlabel('Iterations')  \n",
    "ax.set_ylabel('Cost')  \n",
    "ax.set_title('Error vs. Training Epoch') "
   ]
  },
  {
   "cell_type": "code",
   "execution_count": 33,
   "metadata": {},
   "outputs": [
    {
     "name": "stdout",
     "output_type": "stream",
     "text": [
      "G3    129.412658\n",
      "dtype: float64\n",
      "G3    11.375968\n",
      "dtype: float64\n"
     ]
    }
   ],
   "source": [
    "mse = np.sum((np.dot(X,theta) - y)**2)*(1/m)\n",
    "rmse= np.sqrt(mse)\n",
    "print(mse)\n",
    "print(rmse)"
   ]
  },
  {
   "cell_type": "code",
   "execution_count": 34,
   "metadata": {},
   "outputs": [
    {
     "name": "stdout",
     "output_type": "stream",
     "text": [
      "G3    51118.0\n",
      "dtype: float64\n",
      "G3    8269.908861\n",
      "dtype: float64\n",
      "G3   -5.181205\n",
      "dtype: float64\n"
     ]
    }
   ],
   "source": [
    "ssr = np.sum((np.dot(X,theta) - y)**2)\n",
    "sst = np.sum((y - np.mean(y))**2)\n",
    "\n",
    "r2_score = 1 - (ssr/sst)\n",
    "print(ssr)\n",
    "print(sst)\n",
    "print(r2_score)"
   ]
  },
  {
   "cell_type": "code",
   "execution_count": null,
   "metadata": {},
   "outputs": [],
   "source": []
  }
 ],
 "metadata": {
  "kernelspec": {
   "display_name": "Python 3",
   "language": "python",
   "name": "python3"
  },
  "language_info": {
   "codemirror_mode": {
    "name": "ipython",
    "version": 3
   },
   "file_extension": ".py",
   "mimetype": "text/x-python",
   "name": "python",
   "nbconvert_exporter": "python",
   "pygments_lexer": "ipython3",
   "version": "3.7.1"
  }
 },
 "nbformat": 4,
 "nbformat_minor": 2
}
